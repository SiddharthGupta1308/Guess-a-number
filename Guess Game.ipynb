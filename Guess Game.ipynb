{
 "cells": [
  {
   "cell_type": "code",
   "execution_count": null,
   "metadata": {},
   "outputs": [],
   "source": [
    "from random import randint\n",
    "\n",
    "while True:\n",
    "    try:\n",
    "        num = int(input(\"Guess a number between 1 to 10: \"))\n",
    "        if 0<num<11:\n",
    "            if num == ran:\n",
    "                print(\"Congrats, Your guess is correct\")\n",
    "                break\n",
    "            else:\n",
    "                print(\"Opps, try again\")\n",
    "        else:\n",
    "                print(\"The number should lie in the given range\")\n",
    "    except:\n",
    "        print(\"You have to enter an Integer\")\n",
    "        continue"
   ]
  },
  {
   "cell_type": "code",
   "execution_count": null,
   "metadata": {},
   "outputs": [],
   "source": []
  }
 ],
 "metadata": {
  "kernelspec": {
   "display_name": "Python 3",
   "language": "python",
   "name": "python3"
  },
  "language_info": {
   "codemirror_mode": {
    "name": "ipython",
    "version": 3
   },
   "file_extension": ".py",
   "mimetype": "text/x-python",
   "name": "python",
   "nbconvert_exporter": "python",
   "pygments_lexer": "ipython3",
   "version": "3.8.3"
  }
 },
 "nbformat": 4,
 "nbformat_minor": 4
}
